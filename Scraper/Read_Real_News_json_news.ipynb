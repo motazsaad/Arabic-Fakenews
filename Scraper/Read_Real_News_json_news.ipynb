{
  "nbformat": 4,
  "nbformat_minor": 0,
  "metadata": {
    "colab": {
      "name": "1-Read Real News json news.ipynb",
      "provenance": [],
      "collapsed_sections": []
    },
    "kernelspec": {
      "display_name": "Python 3",
      "name": "python3"
    },
    "language_info": {
      "name": "python"
    }
  },
  "cells": [
    {
      "cell_type": "markdown",
      "metadata": {
        "id": "HPbnjTryU0KR"
      },
      "source": [
        "# Read Content"
      ]
    },
    {
      "cell_type": "code",
      "metadata": {
        "colab": {
          "base_uri": "https://localhost:8080/"
        },
        "id": "YjArtSMBzBNm",
        "outputId": "4bbe6e5c-b55d-4e54-d238-7f2968695c7d"
      },
      "source": [
        "from google.colab import drive\n",
        "drive.mount('/content/drive')"
      ],
      "execution_count": null,
      "outputs": [
        {
          "output_type": "stream",
          "text": [
            "Mounted at /content/drive\n"
          ],
          "name": "stdout"
        }
      ]
    },
    {
      "cell_type": "code",
      "metadata": {
        "id": "dpbo99fQeqja"
      },
      "source": [
        "! git clone https://github.com/motazsaad/Arabic-News.git  "
      ],
      "execution_count": null,
      "outputs": []
    },
    {
      "cell_type": "code",
      "metadata": {
        "colab": {
          "base_uri": "https://localhost:8080/"
        },
        "id": "fi58M4IP3rMX",
        "outputId": "5d1b571e-0df0-46c4-934a-0627912a2e18"
      },
      "source": [
        "! git clone https://github.com/mohaddad/COVID-FAKES/tree/COVID-FAKES-A.git"
      ],
      "execution_count": null,
      "outputs": [
        {
          "output_type": "stream",
          "text": [
            "Cloning into 'Arabic-News'...\n",
            "remote: Enumerating objects: 347664, done.\u001b[K\n",
            "remote: Counting objects: 100% (6/6), done.\u001b[K\n",
            "remote: Compressing objects: 100% (6/6), done.\u001b[K\n",
            "remote: Total 347664 (delta 2), reused 0 (delta 0), pack-reused 347658\u001b[K\n",
            "Receiving objects: 100% (347664/347664), 2.81 GiB | 30.94 MiB/s, done.\n",
            "Resolving deltas: 100% (174/174), done.\n",
            "Checking out files: 100% (108/108), done.\n"
          ],
          "name": "stdout"
        }
      ]
    },
    {
      "cell_type": "code",
      "metadata": {
        "colab": {
          "base_uri": "https://localhost:8080/"
        },
        "id": "boqNTZAJVzda",
        "outputId": "db21e951-edb1-446b-db7a-b8e0b4baede9"
      },
      "source": [
        "import os \n",
        "corpora_path = '/content/Arabic-News/corpora/'\n",
        "json_files = sorted([ corpora_path + file for file in os.listdir(corpora_path) if file.endswith('.json') ])\n",
        "print(json_files)\n",
        "print(len(json_files))"
      ],
      "execution_count": null,
      "outputs": [
        {
          "output_type": "stream",
          "text": [
            "['/content/Arabic-News/corpora/aljazeera.net_20190419_000.json', '/content/Arabic-News/corpora/aljazeera.net_20190419_001.json', '/content/Arabic-News/corpora/aljazeera.net_20190419_002.json', '/content/Arabic-News/corpora/aljazeera.net_20190419_003.json', '/content/Arabic-News/corpora/aljazeera.net_20190419_004.json', '/content/Arabic-News/corpora/aljazeera.net_20190419_005.json', '/content/Arabic-News/corpora/aljazeera.net_20190419_006.json', '/content/Arabic-News/corpora/arabic.cnn.com_20190419_000.json', '/content/Arabic-News/corpora/arabic.cnn.com_20190419_001.json', '/content/Arabic-News/corpora/arabic.euronews.com_20190409_000.json', '/content/Arabic-News/corpora/arabic.euronews.com_20190409_001.json', '/content/Arabic-News/corpora/arabic.euronews.com_20190409_002.json', '/content/Arabic-News/corpora/arabic.rt.com_20190419_000.json', '/content/Arabic-News/corpora/arabic.rt.com_20190419_001.json', '/content/Arabic-News/corpora/arabic.rt.com_20190419_002.json', '/content/Arabic-News/corpora/arabic.rt.com_20190419_003.json', '/content/Arabic-News/corpora/arabic.rt.com_20190419_004.json', '/content/Arabic-News/corpora/arabic.rt.com_20190419_005.json', '/content/Arabic-News/corpora/arabic.rt.com_20190419_006.json', '/content/Arabic-News/corpora/arabic.rt.com_20190419_007.json', '/content/Arabic-News/corpora/arabic.rt.com_20190419_008.json', '/content/Arabic-News/corpora/arabic.rt.com_20190419_009.json', '/content/Arabic-News/corpora/arabic.rt.com_20190419_010.json', '/content/Arabic-News/corpora/arabic.rt.com_20190419_011.json', '/content/Arabic-News/corpora/arabic.rt.com_20190419_012.json', '/content/Arabic-News/corpora/arabic.rt.com_20190419_013.json', '/content/Arabic-News/corpora/arabic.rt.com_20190419_014.json', '/content/Arabic-News/corpora/arabic.rt.com_20190419_015.json', '/content/Arabic-News/corpora/arabic.rt.com_20190419_016.json', '/content/Arabic-News/corpora/arabic.rt.com_20190419_017.json', '/content/Arabic-News/corpora/arabic.rt.com_20190419_018.json', '/content/Arabic-News/corpora/bbc.com_20190409_000.json', '/content/Arabic-News/corpora/bbc.com_20190409_001.json', '/content/Arabic-News/corpora/bbc.com_20190409_002.json', '/content/Arabic-News/corpora/bbc.com_20190409_003.json', '/content/Arabic-News/corpora/bbc.com_20190409_004.json', '/content/Arabic-News/corpora/bbc.com_20190409_005.json']\n",
            "37\n"
          ],
          "name": "stdout"
        }
      ]
    },
    {
      "cell_type": "code",
      "metadata": {
        "colab": {
          "base_uri": "https://localhost:8080/"
        },
        "id": "2WsjAXFUWN0B",
        "outputId": "e8172b64-518f-4145-d795-91716b87a87d"
      },
      "source": [
        "import json \n",
        "from json import JSONDecodeError\n",
        "\n",
        "json_items = []\n",
        "for file in json_files:\n",
        "  try: \n",
        "    print('processing:', file)\n",
        "    infile = open(file, encoding='utf-8').read()\n",
        "    parts = infile.split(\"}{\")\n",
        "    for part in parts:\n",
        "      if part[0] != '{':\n",
        "        part = \"{\" + part \n",
        "      if part[-1] != '}':\n",
        "        part = part + \"}\"\n",
        "      json_items.append(json.loads(part))\n",
        "  except JSONDecodeError:\n",
        "     print('JSONDecodeError file:', file)\n",
        "print('done')"
      ],
      "execution_count": null,
      "outputs": [
        {
          "output_type": "stream",
          "text": [
            "processing: /content/Arabic-News/corpora/aljazeera.net_20190419_000.json\n",
            "processing: /content/Arabic-News/corpora/aljazeera.net_20190419_001.json\n",
            "processing: /content/Arabic-News/corpora/aljazeera.net_20190419_002.json\n",
            "processing: /content/Arabic-News/corpora/aljazeera.net_20190419_003.json\n",
            "processing: /content/Arabic-News/corpora/aljazeera.net_20190419_004.json\n",
            "processing: /content/Arabic-News/corpora/aljazeera.net_20190419_005.json\n",
            "processing: /content/Arabic-News/corpora/aljazeera.net_20190419_006.json\n",
            "processing: /content/Arabic-News/corpora/arabic.cnn.com_20190419_000.json\n",
            "JSONDecodeError file: /content/Arabic-News/corpora/arabic.cnn.com_20190419_000.json\n",
            "processing: /content/Arabic-News/corpora/arabic.cnn.com_20190419_001.json\n",
            "processing: /content/Arabic-News/corpora/arabic.euronews.com_20190409_000.json\n",
            "processing: /content/Arabic-News/corpora/arabic.euronews.com_20190409_001.json\n",
            "processing: /content/Arabic-News/corpora/arabic.euronews.com_20190409_002.json\n",
            "processing: /content/Arabic-News/corpora/arabic.rt.com_20190419_000.json\n",
            "processing: /content/Arabic-News/corpora/arabic.rt.com_20190419_001.json\n",
            "processing: /content/Arabic-News/corpora/arabic.rt.com_20190419_002.json\n",
            "processing: /content/Arabic-News/corpora/arabic.rt.com_20190419_003.json\n",
            "processing: /content/Arabic-News/corpora/arabic.rt.com_20190419_004.json\n",
            "processing: /content/Arabic-News/corpora/arabic.rt.com_20190419_005.json\n",
            "processing: /content/Arabic-News/corpora/arabic.rt.com_20190419_006.json\n",
            "processing: /content/Arabic-News/corpora/arabic.rt.com_20190419_007.json\n",
            "processing: /content/Arabic-News/corpora/arabic.rt.com_20190419_008.json\n",
            "processing: /content/Arabic-News/corpora/arabic.rt.com_20190419_009.json\n",
            "processing: /content/Arabic-News/corpora/arabic.rt.com_20190419_010.json\n",
            "processing: /content/Arabic-News/corpora/arabic.rt.com_20190419_011.json\n",
            "processing: /content/Arabic-News/corpora/arabic.rt.com_20190419_012.json\n",
            "processing: /content/Arabic-News/corpora/arabic.rt.com_20190419_013.json\n",
            "processing: /content/Arabic-News/corpora/arabic.rt.com_20190419_014.json\n",
            "processing: /content/Arabic-News/corpora/arabic.rt.com_20190419_015.json\n",
            "processing: /content/Arabic-News/corpora/arabic.rt.com_20190419_016.json\n",
            "processing: /content/Arabic-News/corpora/arabic.rt.com_20190419_017.json\n",
            "processing: /content/Arabic-News/corpora/arabic.rt.com_20190419_018.json\n",
            "processing: /content/Arabic-News/corpora/bbc.com_20190409_000.json\n",
            "processing: /content/Arabic-News/corpora/bbc.com_20190409_001.json\n",
            "processing: /content/Arabic-News/corpora/bbc.com_20190409_002.json\n",
            "processing: /content/Arabic-News/corpora/bbc.com_20190409_003.json\n",
            "processing: /content/Arabic-News/corpora/bbc.com_20190409_004.json\n",
            "processing: /content/Arabic-News/corpora/bbc.com_20190409_005.json\n",
            "done\n"
          ],
          "name": "stdout"
        }
      ]
    },
    {
      "cell_type": "code",
      "metadata": {
        "colab": {
          "base_uri": "https://localhost:8080/",
          "height": 694
        },
        "id": "ZFTnaZogW5LB",
        "outputId": "4fbe79a3-cf6e-4576-b87a-9007ce8d45be"
      },
      "source": [
        "import pandas as pd \n",
        "df =  pd.DataFrame(json_items)\n",
        "df.head(5)"
      ],
      "execution_count": null,
      "outputs": [
        {
          "output_type": "execute_result",
          "data": {
            "text/html": [
              "<div>\n",
              "<style scoped>\n",
              "    .dataframe tbody tr th:only-of-type {\n",
              "        vertical-align: middle;\n",
              "    }\n",
              "\n",
              "    .dataframe tbody tr th {\n",
              "        vertical-align: top;\n",
              "    }\n",
              "\n",
              "    .dataframe thead th {\n",
              "        text-align: right;\n",
              "    }\n",
              "</style>\n",
              "<table border=\"1\" class=\"dataframe\">\n",
              "  <thead>\n",
              "    <tr style=\"text-align: right;\">\n",
              "      <th></th>\n",
              "      <th>title</th>\n",
              "      <th>description</th>\n",
              "      <th>date_modify</th>\n",
              "      <th>date_download</th>\n",
              "      <th>date_publish</th>\n",
              "      <th>language</th>\n",
              "      <th>source_domain</th>\n",
              "      <th>localpath</th>\n",
              "      <th>url</th>\n",
              "      <th>text</th>\n",
              "      <th>filename</th>\n",
              "      <th>image_url</th>\n",
              "      <th>authors</th>\n",
              "      <th>title_page</th>\n",
              "      <th>title_rss</th>\n",
              "    </tr>\n",
              "  </thead>\n",
              "  <tbody>\n",
              "    <tr>\n",
              "      <th>0</th>\n",
              "      <td>قطر تشتري حصة بشركة شل</td>\n",
              "      <td>أكدت متحدثة باسم شركة شل أن قطر اشترت حصة بالش...</td>\n",
              "      <td>2019-04-20 12:09:57</td>\n",
              "      <td>2019-04-20 12:09:57</td>\n",
              "      <td>2012-05-11 00:00:00</td>\n",
              "      <td>ar</td>\n",
              "      <td>aljazeera.net</td>\n",
              "      <td>/home/motaz/news-please-repo//data/2019/04/19/...</td>\n",
              "      <td>https://www.aljazeera.net/news/ebusiness/2012/...</td>\n",
              "      <td>الصندوق السيادي القطري يستهدف الاستثمار في كبر...</td>\n",
              "      <td>news_ebusiness_2012_5_11_%D9%82%D8%B7%D8%B1-%D...</td>\n",
              "      <td>https://www.aljazeera.net/file/GetImageCustom/...</td>\n",
              "      <td>[]</td>\n",
              "      <td>قطر تشتري حصة بشركة شل</td>\n",
              "      <td>NULL</td>\n",
              "    </tr>\n",
              "    <tr>\n",
              "      <th>1</th>\n",
              "      <td>مجلس الأمن يبحث طلب فلسطين</td>\n",
              "      <td>يبحث الخميس مجلس الأمن الدولي مشروع تقرير بشأن...</td>\n",
              "      <td>2019-04-20 13:04:30</td>\n",
              "      <td>2019-04-20 13:04:30</td>\n",
              "      <td>2011-11-03 00:00:00</td>\n",
              "      <td>ar</td>\n",
              "      <td>aljazeera.net</td>\n",
              "      <td>/home/motaz/news-please-repo//data/2019/04/19/...</td>\n",
              "      <td>https://www.aljazeera.net/news/arabic/2011/11/...</td>\n",
              "      <td>عباس قدم طلب عضوية بلاده في الأمم المتحدة في 2...</td>\n",
              "      <td>news_arabic_2011_11_3_%D9%85%D8%AC%D9%84%D8%B3...</td>\n",
              "      <td>https://www.aljazeera.net/file/GetImageCustom/...</td>\n",
              "      <td>[]</td>\n",
              "      <td>مجلس الأمن يبحث طلب فلسطين</td>\n",
              "      <td>NULL</td>\n",
              "    </tr>\n",
              "    <tr>\n",
              "      <th>2</th>\n",
              "      <td>بلاتر: العقوبة ضد السودان عادلة</td>\n",
              "      <td>قال رئيس الاتحاد الدولي لكرة القدم (الفيفا) جو...</td>\n",
              "      <td>2019-04-20 10:11:42</td>\n",
              "      <td>2019-04-20 10:11:42</td>\n",
              "      <td>2012-10-16 00:00:00</td>\n",
              "      <td>ar</td>\n",
              "      <td>aljazeera.net</td>\n",
              "      <td>/home/motaz/news-please-repo//data/2019/04/19/...</td>\n",
              "      <td>https://www.aljazeera.net/news/sport/2012/10/1...</td>\n",
              "      <td>جوزيف بلاتر خلال لقائه الصحفيين في جنيف (الجزي...</td>\n",
              "      <td>news_sport_2012_10_16_%D8%A8%D9%84%D8%A7%D8%AA...</td>\n",
              "      <td>https://www.aljazeera.net/Views/Shared/shared/...</td>\n",
              "      <td>[]</td>\n",
              "      <td>بلاتر: العقوبة ضد السودان عادلة</td>\n",
              "      <td>NULL</td>\n",
              "    </tr>\n",
              "    <tr>\n",
              "      <th>3</th>\n",
              "      <td>العراق يلغي صفقة سلاح مع روسيا</td>\n",
              "      <td>قال متحدث باسم رئيس الوزراء العراقي نوري المال...</td>\n",
              "      <td>2019-04-20 10:28:06</td>\n",
              "      <td>2019-04-20 10:28:06</td>\n",
              "      <td>2012-11-10 00:00:00</td>\n",
              "      <td>ar</td>\n",
              "      <td>aljazeera.net</td>\n",
              "      <td>/home/motaz/news-please-repo//data/2019/04/19/...</td>\n",
              "      <td>https://www.aljazeera.net/news/arabic/2012/11/...</td>\n",
              "      <td>وزير الدفاع العراقي بالوكالة سعدون الدليمي قال...</td>\n",
              "      <td>news_arabic_2012_11_10_%D8%A7%D9%84%D8%B9%D8%B...</td>\n",
              "      <td>https://www.aljazeera.net/Views/Shared/shared/...</td>\n",
              "      <td>[]</td>\n",
              "      <td>العراق يلغي صفقة سلاح مع روسيا</td>\n",
              "      <td>NULL</td>\n",
              "    </tr>\n",
              "    <tr>\n",
              "      <th>4</th>\n",
              "      <td>جدل بمصر حول قرارات مرسي</td>\n",
              "      <td>انعكست حالة الاستقطاب التي عانت منها مصر في ال...</td>\n",
              "      <td>2019-04-20 12:46:51</td>\n",
              "      <td>2019-04-20 12:46:51</td>\n",
              "      <td>2012-11-22 00:00:00</td>\n",
              "      <td>ar</td>\n",
              "      <td>aljazeera.net</td>\n",
              "      <td>/home/motaz/news-please-repo//data/2019/04/19/...</td>\n",
              "      <td>https://www.aljazeera.net/news/reportsandinter...</td>\n",
              "      <td>مؤيدون لقرارات الرئيس مرسي يتظاهرون أمام دار ا...</td>\n",
              "      <td>news_reportsandinterviews_2012_11_22_%D8%AC%D8...</td>\n",
              "      <td>https://www.aljazeera.net/Views/Shared/shared/...</td>\n",
              "      <td>[]</td>\n",
              "      <td>جدل بمصر حول قرارات مرسي</td>\n",
              "      <td>NULL</td>\n",
              "    </tr>\n",
              "  </tbody>\n",
              "</table>\n",
              "</div>"
            ],
            "text/plain": [
              "                             title  ... title_rss\n",
              "0           قطر تشتري حصة بشركة شل  ...      NULL\n",
              "1       مجلس الأمن يبحث طلب فلسطين  ...      NULL\n",
              "2  بلاتر: العقوبة ضد السودان عادلة  ...      NULL\n",
              "3   العراق يلغي صفقة سلاح مع روسيا  ...      NULL\n",
              "4         جدل بمصر حول قرارات مرسي  ...      NULL\n",
              "\n",
              "[5 rows x 15 columns]"
            ]
          },
          "metadata": {
            "tags": []
          },
          "execution_count": 5
        }
      ]
    },
    {
      "cell_type": "code",
      "metadata": {
        "colab": {
          "base_uri": "https://localhost:8080/",
          "height": 35
        },
        "id": "lMmlNx5PcBFT",
        "outputId": "adbe538b-128a-46e5-d916-c59a8a481063"
      },
      "source": [
        "df.description[0]"
      ],
      "execution_count": null,
      "outputs": [
        {
          "output_type": "execute_result",
          "data": {
            "application/vnd.google.colaboratory.intrinsic+json": {
              "type": "string"
            },
            "text/plain": [
              "'أكدت متحدثة باسم شركة شل أن قطر اشترت حصة بالشركة غير أنها امتنعت عن تحديد حجمها، ويجري الحديث عن نسبة تتراوح بين 3% إلى 5%، وامتنعت شركة إيني النفطية الإيطالية عن التعليق على وجود مفاوضات ليشتري جهاز قطر للاستثمار حصة فيها.'"
            ]
          },
          "metadata": {
            "tags": []
          },
          "execution_count": 6
        }
      ]
    },
    {
      "cell_type": "code",
      "metadata": {
        "id": "OfU4wTS1eLsS"
      },
      "source": [
        "أكدت متحدثة باسم عملاق النفط شل أن قطر اشترت حصة بالشركة، غير أنها امتنعت عن تحديد حجمها، وسبق لمجلة ميدل إيست إيكونوميك سرفي (ميس) أن ذكرت بأن جهاز قطر للاستثمار، وهو صندوق الثروة السيادي، يسعى لشراء حصة في شل تتراوح بين 3% إلى 5%."
      ],
      "execution_count": null,
      "outputs": []
    },
    {
      "cell_type": "code",
      "metadata": {
        "colab": {
          "base_uri": "https://localhost:8080/",
          "height": 187
        },
        "id": "91ARlQgHcFGD",
        "outputId": "49aab259-d3d0-407f-c53f-eeff355346d0"
      },
      "source": [
        "df.text[0]"
      ],
      "execution_count": null,
      "outputs": [
        {
          "output_type": "execute_result",
          "data": {
            "application/vnd.google.colaboratory.intrinsic+json": {
              "type": "string"
            },
            "text/plain": [
              "'الصندوق السيادي القطري يستهدف الاستثمار في كبرى شركات النفط كشل (الفرنسية-أرشيف) أكدت متحدثة باسم عملاق النفط شل أن قطر اشترت حصة بالشركة، غير أنها امتنعت عن تحديد حجمها، وسبق لمجلة ميدل إيست إيكونوميك سرفي (ميس) أن ذكرت بأن جهاز قطر للاستثمار، وهو صندوق الثروة السيادي، يسعى لشراء حصة في شل تتراوح بين 3% إلى 5%.\\nوقالت شل في بيان لها إنها ترحب بجهاز قطر للاستثمار \"بصفته مساهما بعيد المدى ورئيسيا، لا سيما في ظل علاقات إستراتيجية تربط شل بالدوحة\"، حيث تدير الشركة مشروعات بمليارات الدولارات في قطاع الغاز الطبيعي بقطر.\\nوإذا كانت الحصة في حدود 5% فإن قطر تصبح أكبر مساهم منفرد في رأسمال الشركة البريطانية الهولندية حسب بيانات رويترز، غير أن من المستبعد أن تكون الحصة تفوق 3% لأن قوانين السوق المالي البريطاني يفرض على أي طرف اشترى أكثر من 3% من شركة مدرجة ببورصة لندن أن يصدر بيانا بالأمر، وهو ما لم يفعله الصندوق السيادي القطري.\\nوعقب الإعلان عن الصفقة ارتفع سهم شل (فئة أي) اليوم في سوق لندن بـ1.1%، كما ارتفع سهم عملاق آخر في قطاع النفط هو شركة إيني الإيطالية بـ1.9%، غير أن هذه الأخيرة رفضت التعليق على أخبار أوردتها مجلة ميس عن وجود مفاوضات لاستحواذ قطر على حصة فيها.\\n\"\\nرئيس وزراء إيطاليا قال الشهر الماضي عقب لقائه أمير قطر بروما إن مؤسسات قطرية أبدت اهتماما بضخ استثمارات طويلة الأمد بإيطاليا\\n\"\\nإيني الإيطالية\\nوقال اثنان من المحللين إن جهاز قطر للاستثمار مهتم بشراء حصة تقارب 3.4% في الشركة الإيطالية، وسبق لرئيس وزراء إيطاليا ماريو مونتي أن قال عقب لقائه أمير قطر الشيخ حمد بن خليفة آل ثاني بروما الشهر الماضي إن مؤسسات قطرية أبدت اهتماما بضخ استثمارات طويلة الأمد بإيطاليا.\\nوالشهر الماضي أيضا أعلنت قطر القابضة التابعة لصندوق الثروة السيادي أنها رفعت حصتها في شركة توتال الفرنسية إلى 3%، مضيفة أنها لم تقرر بعد إذا كانت ستشتري المزيد من الأسهم في الشركة.\\nوفي سياق متصل، ذكرت صحيفة فايننشال تايمز البريطانية اليوم أن جهاز قطر للاستثمار يخطط لزيادة حصته في عملاق التعدين إكستراتا المدرج ببورصة لندن لتناهز 10% على الأقل، وأعربت قطر عن استعدادها لدعم صفقة اندماج بين أكستراتا وشركة جلينكور المتخصصة بتجارة السلع الأولية، وتبلغ قيمة صفقة الاندماج تسعين مليار دولار.\\nدينامية استثمارية\\nووقعت قطر اتفاقا في أبريل/نيسان الماضي لاستثمار 250 مليون دولار بالتعاون مع ذراع بنك باركليز البريطاني للاستثمار المباشر في الثروات الطبيعية.\\nللإشارة، فإن الصندوق السيادي القطري أصبح في السنوات الأخيرة من أنشط الصناديق السيادية في العالم، حيث توظف قطر فوائضها الضخمة الناتجة عن عائدات الغاز لشراء حصص في شركات كبرى في قطاعات عديدة من شركات السيارات كبورش الألمانية إلى البنوك كمصرف باركليز، فضلا عن قطاعات التجارة والإعلام والسلع الفاخرة.'"
            ]
          },
          "metadata": {
            "tags": []
          },
          "execution_count": 7
        }
      ]
    },
    {
      "cell_type": "code",
      "metadata": {
        "colab": {
          "base_uri": "https://localhost:8080/",
          "height": 35
        },
        "id": "wgv07J-Hdq2p",
        "outputId": "011bbfac-5535-4841-e4a7-3f0d15059399"
      },
      "source": [
        "df.url[0]"
      ],
      "execution_count": null,
      "outputs": [
        {
          "output_type": "execute_result",
          "data": {
            "application/vnd.google.colaboratory.intrinsic+json": {
              "type": "string"
            },
            "text/plain": [
              "'https://www.aljazeera.net/news/ebusiness/2012/5/11/%D9%82%D8%B7%D8%B1-%D8%AA%D8%B4%D8%AA%D8%B1%D9%8A-%D8%AD%D8%B5%D8%A9-%D8%A8%D8%B4%D8%B1%D9%83%D8%A9-%D8%B4%D9%84'"
            ]
          },
          "metadata": {
            "tags": []
          },
          "execution_count": 8
        }
      ]
    },
    {
      "cell_type": "code",
      "metadata": {
        "colab": {
          "base_uri": "https://localhost:8080/"
        },
        "id": "gf0tAESkWwqN",
        "outputId": "bf771223-d3a8-4086-b0e3-ff5c91d4c36a"
      },
      "source": [
        "df.info()"
      ],
      "execution_count": null,
      "outputs": [
        {
          "output_type": "stream",
          "text": [
            "<class 'pandas.core.frame.DataFrame'>\n",
            "RangeIndex: 600313 entries, 0 to 600312\n",
            "Data columns (total 15 columns):\n",
            " #   Column         Non-Null Count   Dtype \n",
            "---  ------         --------------   ----- \n",
            " 0   title          600313 non-null  object\n",
            " 1   description    596553 non-null  object\n",
            " 2   date_modify    600313 non-null  object\n",
            " 3   date_download  600313 non-null  object\n",
            " 4   date_publish   597703 non-null  object\n",
            " 5   language       600313 non-null  object\n",
            " 6   source_domain  600313 non-null  object\n",
            " 7   localpath      600313 non-null  object\n",
            " 8   url            600313 non-null  object\n",
            " 9   text           600313 non-null  object\n",
            " 10  filename       600313 non-null  object\n",
            " 11  image_url      600313 non-null  object\n",
            " 12  authors        600313 non-null  object\n",
            " 13  title_page     600313 non-null  object\n",
            " 14  title_rss      600313 non-null  object\n",
            "dtypes: object(15)\n",
            "memory usage: 68.7+ MB\n"
          ],
          "name": "stdout"
        }
      ]
    },
    {
      "cell_type": "code",
      "metadata": {
        "colab": {
          "base_uri": "https://localhost:8080/",
          "height": 195
        },
        "id": "rAkam8bFZQto",
        "outputId": "7658f8a9-a17a-4897-bda7-e57ecdc0a4f7"
      },
      "source": [
        "df['source_domain'].value_counts().to_frame()"
      ],
      "execution_count": null,
      "outputs": [
        {
          "output_type": "execute_result",
          "data": {
            "text/html": [
              "<div>\n",
              "<style scoped>\n",
              "    .dataframe tbody tr th:only-of-type {\n",
              "        vertical-align: middle;\n",
              "    }\n",
              "\n",
              "    .dataframe tbody tr th {\n",
              "        vertical-align: top;\n",
              "    }\n",
              "\n",
              "    .dataframe thead th {\n",
              "        text-align: right;\n",
              "    }\n",
              "</style>\n",
              "<table border=\"1\" class=\"dataframe\">\n",
              "  <thead>\n",
              "    <tr style=\"text-align: right;\">\n",
              "      <th></th>\n",
              "      <th>source_domain</th>\n",
              "    </tr>\n",
              "  </thead>\n",
              "  <tbody>\n",
              "    <tr>\n",
              "      <th>arabic.rt.com</th>\n",
              "      <td>334268</td>\n",
              "    </tr>\n",
              "    <tr>\n",
              "      <th>aljazeera.net</th>\n",
              "      <td>109141</td>\n",
              "    </tr>\n",
              "    <tr>\n",
              "      <th>bbc.com</th>\n",
              "      <td>94734</td>\n",
              "    </tr>\n",
              "    <tr>\n",
              "      <th>arabic.euronews.com</th>\n",
              "      <td>46079</td>\n",
              "    </tr>\n",
              "    <tr>\n",
              "      <th>arabic.cnn.com</th>\n",
              "      <td>16091</td>\n",
              "    </tr>\n",
              "  </tbody>\n",
              "</table>\n",
              "</div>"
            ],
            "text/plain": [
              "                     source_domain\n",
              "arabic.rt.com               334268\n",
              "aljazeera.net               109141\n",
              "bbc.com                      94734\n",
              "arabic.euronews.com          46079\n",
              "arabic.cnn.com               16091"
            ]
          },
          "metadata": {
            "tags": []
          },
          "execution_count": 7
        }
      ]
    },
    {
      "cell_type": "code",
      "metadata": {
        "colab": {
          "base_uri": "https://localhost:8080/"
        },
        "id": "0eMyskSzcBVZ",
        "outputId": "fd0f042e-7f7d-4758-dc1e-3c71be5df337"
      },
      "source": [
        "df.columns "
      ],
      "execution_count": null,
      "outputs": [
        {
          "output_type": "execute_result",
          "data": {
            "text/plain": [
              "Index(['title', 'description', 'date_modify', 'date_download', 'date_publish',\n",
              "       'language', 'source_domain', 'localpath', 'url', 'text', 'filename',\n",
              "       'image_url', 'authors', 'title_page', 'title_rss'],\n",
              "      dtype='object')"
            ]
          },
          "metadata": {
            "tags": []
          },
          "execution_count": 8
        }
      ]
    },
    {
      "cell_type": "code",
      "metadata": {
        "colab": {
          "base_uri": "https://localhost:8080/"
        },
        "id": "Mqt4YQX_SrKt",
        "outputId": "6c01f1a5-c072-4674-adc6-99ea712a3170"
      },
      "source": [
        "df.title_rss.value_counts()"
      ],
      "execution_count": null,
      "outputs": [
        {
          "output_type": "execute_result",
          "data": {
            "text/plain": [
              "NULL    600313\n",
              "Name: title_rss, dtype: int64"
            ]
          },
          "metadata": {
            "tags": []
          },
          "execution_count": 9
        }
      ]
    },
    {
      "cell_type": "code",
      "metadata": {
        "colab": {
          "base_uri": "https://localhost:8080/"
        },
        "id": "mIBklUQlalxH",
        "outputId": "5edce2f2-6b8b-4cae-e8d6-8f9ef8ab55bc"
      },
      "source": [
        "df.language.value_counts()"
      ],
      "execution_count": null,
      "outputs": [
        {
          "output_type": "execute_result",
          "data": {
            "text/plain": [
              "ar    600313\n",
              "Name: language, dtype: int64"
            ]
          },
          "metadata": {
            "tags": []
          },
          "execution_count": 10
        }
      ]
    },
    {
      "cell_type": "code",
      "metadata": {
        "colab": {
          "base_uri": "https://localhost:8080/"
        },
        "id": "xVrPXG4uSvsl",
        "outputId": "c2ff4e1c-01eb-49a6-e249-248367cae489"
      },
      "source": [
        "df.drop(columns=['title_rss', 'date_modify', 'language', 'filename', 'localpath'], inplace=True)\n",
        "df.info()"
      ],
      "execution_count": null,
      "outputs": [
        {
          "output_type": "stream",
          "text": [
            "<class 'pandas.core.frame.DataFrame'>\n",
            "RangeIndex: 600313 entries, 0 to 600312\n",
            "Data columns (total 10 columns):\n",
            " #   Column         Non-Null Count   Dtype \n",
            "---  ------         --------------   ----- \n",
            " 0   title          600313 non-null  object\n",
            " 1   description    596553 non-null  object\n",
            " 2   date_download  600313 non-null  object\n",
            " 3   date_publish   597703 non-null  object\n",
            " 4   source_domain  600313 non-null  object\n",
            " 5   url            600313 non-null  object\n",
            " 6   text           600313 non-null  object\n",
            " 7   image_url      600313 non-null  object\n",
            " 8   authors        600313 non-null  object\n",
            " 9   title_page     600313 non-null  object\n",
            "dtypes: object(10)\n",
            "memory usage: 45.8+ MB\n"
          ],
          "name": "stdout"
        }
      ]
    },
    {
      "cell_type": "code",
      "metadata": {
        "colab": {
          "base_uri": "https://localhost:8080/"
        },
        "id": "asiuvEaMW-qt",
        "outputId": "60b5d0ec-308f-481d-e547-483cbb1a5800"
      },
      "source": [
        "import numpy as np \n",
        "def short_date(d):\n",
        "  if d:\n",
        "    return d[:10]\n",
        "  else: \n",
        "    return np.nan\n",
        "df.date_download = df.date_download.apply(short_date)\n",
        "df.date_publish = df.date_publish.apply(short_date)\n",
        "df.head()"
      ],
      "execution_count": null,
      "outputs": [
        {
          "output_type": "execute_result",
          "data": {
            "text/html": [
              "<div>\n",
              "<style scoped>\n",
              "    .dataframe tbody tr th:only-of-type {\n",
              "        vertical-align: middle;\n",
              "    }\n",
              "\n",
              "    .dataframe tbody tr th {\n",
              "        vertical-align: top;\n",
              "    }\n",
              "\n",
              "    .dataframe thead th {\n",
              "        text-align: right;\n",
              "    }\n",
              "</style>\n",
              "<table border=\"1\" class=\"dataframe\">\n",
              "  <thead>\n",
              "    <tr style=\"text-align: right;\">\n",
              "      <th></th>\n",
              "      <th>title</th>\n",
              "      <th>description</th>\n",
              "      <th>date_download</th>\n",
              "      <th>date_publish</th>\n",
              "      <th>source_domain</th>\n",
              "      <th>url</th>\n",
              "      <th>text</th>\n",
              "      <th>image_url</th>\n",
              "      <th>authors</th>\n",
              "      <th>title_page</th>\n",
              "    </tr>\n",
              "  </thead>\n",
              "  <tbody>\n",
              "    <tr>\n",
              "      <th>0</th>\n",
              "      <td>قطر تشتري حصة بشركة شل</td>\n",
              "      <td>أكدت متحدثة باسم شركة شل أن قطر اشترت حصة بالش...</td>\n",
              "      <td>2019-04-20</td>\n",
              "      <td>2012-05-11</td>\n",
              "      <td>aljazeera.net</td>\n",
              "      <td>https://www.aljazeera.net/news/ebusiness/2012/...</td>\n",
              "      <td>الصندوق السيادي القطري يستهدف الاستثمار في كبر...</td>\n",
              "      <td>https://www.aljazeera.net/file/GetImageCustom/...</td>\n",
              "      <td>[]</td>\n",
              "      <td>قطر تشتري حصة بشركة شل</td>\n",
              "    </tr>\n",
              "    <tr>\n",
              "      <th>1</th>\n",
              "      <td>مجلس الأمن يبحث طلب فلسطين</td>\n",
              "      <td>يبحث الخميس مجلس الأمن الدولي مشروع تقرير بشأن...</td>\n",
              "      <td>2019-04-20</td>\n",
              "      <td>2011-11-03</td>\n",
              "      <td>aljazeera.net</td>\n",
              "      <td>https://www.aljazeera.net/news/arabic/2011/11/...</td>\n",
              "      <td>عباس قدم طلب عضوية بلاده في الأمم المتحدة في 2...</td>\n",
              "      <td>https://www.aljazeera.net/file/GetImageCustom/...</td>\n",
              "      <td>[]</td>\n",
              "      <td>مجلس الأمن يبحث طلب فلسطين</td>\n",
              "    </tr>\n",
              "    <tr>\n",
              "      <th>2</th>\n",
              "      <td>بلاتر: العقوبة ضد السودان عادلة</td>\n",
              "      <td>قال رئيس الاتحاد الدولي لكرة القدم (الفيفا) جو...</td>\n",
              "      <td>2019-04-20</td>\n",
              "      <td>2012-10-16</td>\n",
              "      <td>aljazeera.net</td>\n",
              "      <td>https://www.aljazeera.net/news/sport/2012/10/1...</td>\n",
              "      <td>جوزيف بلاتر خلال لقائه الصحفيين في جنيف (الجزي...</td>\n",
              "      <td>https://www.aljazeera.net/Views/Shared/shared/...</td>\n",
              "      <td>[]</td>\n",
              "      <td>بلاتر: العقوبة ضد السودان عادلة</td>\n",
              "    </tr>\n",
              "    <tr>\n",
              "      <th>3</th>\n",
              "      <td>العراق يلغي صفقة سلاح مع روسيا</td>\n",
              "      <td>قال متحدث باسم رئيس الوزراء العراقي نوري المال...</td>\n",
              "      <td>2019-04-20</td>\n",
              "      <td>2012-11-10</td>\n",
              "      <td>aljazeera.net</td>\n",
              "      <td>https://www.aljazeera.net/news/arabic/2012/11/...</td>\n",
              "      <td>وزير الدفاع العراقي بالوكالة سعدون الدليمي قال...</td>\n",
              "      <td>https://www.aljazeera.net/Views/Shared/shared/...</td>\n",
              "      <td>[]</td>\n",
              "      <td>العراق يلغي صفقة سلاح مع روسيا</td>\n",
              "    </tr>\n",
              "    <tr>\n",
              "      <th>4</th>\n",
              "      <td>جدل بمصر حول قرارات مرسي</td>\n",
              "      <td>انعكست حالة الاستقطاب التي عانت منها مصر في ال...</td>\n",
              "      <td>2019-04-20</td>\n",
              "      <td>2012-11-22</td>\n",
              "      <td>aljazeera.net</td>\n",
              "      <td>https://www.aljazeera.net/news/reportsandinter...</td>\n",
              "      <td>مؤيدون لقرارات الرئيس مرسي يتظاهرون أمام دار ا...</td>\n",
              "      <td>https://www.aljazeera.net/Views/Shared/shared/...</td>\n",
              "      <td>[]</td>\n",
              "      <td>جدل بمصر حول قرارات مرسي</td>\n",
              "    </tr>\n",
              "  </tbody>\n",
              "</table>\n",
              "</div>"
            ],
            "text/plain": [
              "                             title  ...                       title_page\n",
              "0           قطر تشتري حصة بشركة شل  ...           قطر تشتري حصة بشركة شل\n",
              "1       مجلس الأمن يبحث طلب فلسطين  ...       مجلس الأمن يبحث طلب فلسطين\n",
              "2  بلاتر: العقوبة ضد السودان عادلة  ...  بلاتر: العقوبة ضد السودان عادلة\n",
              "3   العراق يلغي صفقة سلاح مع روسيا  ...   العراق يلغي صفقة سلاح مع روسيا\n",
              "4         جدل بمصر حول قرارات مرسي  ...         جدل بمصر حول قرارات مرسي\n",
              "\n",
              "[5 rows x 10 columns]"
            ]
          },
          "metadata": {
            "tags": []
          },
          "execution_count": 12
        }
      ]
    },
    {
      "cell_type": "code",
      "metadata": {
        "colab": {
          "base_uri": "https://localhost:8080/"
        },
        "id": "miq9TqLOZBS-",
        "outputId": "23e78b91-8b24-4adb-e6a2-0d9f8d5ca71b"
      },
      "source": [
        "df.info()"
      ],
      "execution_count": null,
      "outputs": [
        {
          "output_type": "stream",
          "text": [
            "<class 'pandas.core.frame.DataFrame'>\n",
            "RangeIndex: 600313 entries, 0 to 600312\n",
            "Data columns (total 10 columns):\n",
            " #   Column         Non-Null Count   Dtype \n",
            "---  ------         --------------   ----- \n",
            " 0   title          600313 non-null  object\n",
            " 1   description    596553 non-null  object\n",
            " 2   date_download  600313 non-null  object\n",
            " 3   date_publish   597703 non-null  object\n",
            " 4   source_domain  600313 non-null  object\n",
            " 5   url            600313 non-null  object\n",
            " 6   text           600313 non-null  object\n",
            " 7   image_url      600313 non-null  object\n",
            " 8   authors        600313 non-null  object\n",
            " 9   title_page     600313 non-null  object\n",
            "dtypes: object(10)\n",
            "memory usage: 45.8+ MB\n"
          ],
          "name": "stdout"
        }
      ]
    },
    {
      "cell_type": "code",
      "metadata": {
        "id": "50z6Rno3bUmu"
      },
      "source": [
        "df.to_csv('/content/drive/MyDrive/Arabic_FakeNews/Model/Corpora/Arabic_news.csv', index=False)"
      ],
      "execution_count": null,
      "outputs": []
    },
    {
      "cell_type": "code",
      "metadata": {
        "colab": {
          "base_uri": "https://localhost:8080/"
        },
        "id": "ng898iJebdwM",
        "outputId": "1d239679-f9a2-4358-8a28-d181d364aad0"
      },
      "source": [
        "sources = df['source_domain'].unique().tolist()\n",
        "sources"
      ],
      "execution_count": null,
      "outputs": [
        {
          "output_type": "execute_result",
          "data": {
            "text/plain": [
              "['aljazeera.net',\n",
              " 'arabic.cnn.com',\n",
              " 'arabic.euronews.com',\n",
              " 'arabic.rt.com',\n",
              " 'bbc.com']"
            ]
          },
          "metadata": {
            "tags": []
          },
          "execution_count": 15
        }
      ]
    },
    {
      "cell_type": "code",
      "metadata": {
        "id": "zg0tobMAbmau"
      },
      "source": [
        "for source in sources:\n",
        "  src_df = df[df['source_domain'] == source]\n",
        "  src_df.to_csv('/content/drive/MyDrive/Arabic_FakeNews/Model/Corpora/'+source + '_Arabic_news.csv', index=False)"
      ],
      "execution_count": null,
      "outputs": []
    },
    {
      "cell_type": "code",
      "metadata": {
        "id": "wN0urZkgNJOl"
      },
      "source": [
        "from sklearn.utils import shuffle\n",
        "import pandas as pd \n",
        "real_data= pd.read_csv('/content/drive/MyDrive/Arabic_FakeNews/Model/Corpora/Arabic_news.csv')\n",
        "real_data = shuffle(real_data)"
      ],
      "execution_count": null,
      "outputs": []
    },
    {
      "cell_type": "code",
      "metadata": {
        "id": "3JxdCOaZNOgP"
      },
      "source": [
        "real_data.drop(columns=['date_download','date_publish','url','image_url','authors','title_page'],axis=1,inplace=True)\n"
      ],
      "execution_count": null,
      "outputs": []
    },
    {
      "cell_type": "code",
      "metadata": {
        "colab": {
          "base_uri": "https://localhost:8080/"
        },
        "id": "jcsQMt4ROFh7",
        "outputId": "ce3e7ea4-0898-4931-ddee-817f5e25cf6a"
      },
      "source": [
        "real_data[\"text\"].duplicated().sum()"
      ],
      "execution_count": null,
      "outputs": [
        {
          "output_type": "execute_result",
          "data": {
            "text/plain": [
              "216309"
            ]
          },
          "metadata": {
            "tags": []
          },
          "execution_count": 4
        }
      ]
    },
    {
      "cell_type": "code",
      "metadata": {
        "colab": {
          "base_uri": "https://localhost:8080/"
        },
        "id": "CrASZRwuOKKA",
        "outputId": "69140da6-e773-4ea3-97c6-7d9c275fb124"
      },
      "source": [
        "real_data[\"description\"].duplicated().sum()"
      ],
      "execution_count": null,
      "outputs": [
        {
          "output_type": "execute_result",
          "data": {
            "text/plain": [
              "219052"
            ]
          },
          "metadata": {
            "tags": []
          },
          "execution_count": 5
        }
      ]
    },
    {
      "cell_type": "code",
      "metadata": {
        "colab": {
          "base_uri": "https://localhost:8080/"
        },
        "id": "yQutOOC2ONFU",
        "outputId": "1d94da7d-bcd1-4b27-bab8-565cbc715d9a"
      },
      "source": [
        "real_data[\"title\"].duplicated().sum()"
      ],
      "execution_count": null,
      "outputs": [
        {
          "output_type": "execute_result",
          "data": {
            "text/plain": [
              "216777"
            ]
          },
          "metadata": {
            "tags": []
          },
          "execution_count": 6
        }
      ]
    },
    {
      "cell_type": "code",
      "metadata": {
        "colab": {
          "base_uri": "https://localhost:8080/",
          "height": 402
        },
        "id": "aqSkmlPgOk6t",
        "outputId": "12bd4a08-75d8-4422-b59f-a829475a4a81"
      },
      "source": [
        "real_data"
      ],
      "execution_count": null,
      "outputs": [
        {
          "output_type": "execute_result",
          "data": {
            "text/html": [
              "<div>\n",
              "<style scoped>\n",
              "    .dataframe tbody tr th:only-of-type {\n",
              "        vertical-align: middle;\n",
              "    }\n",
              "\n",
              "    .dataframe tbody tr th {\n",
              "        vertical-align: top;\n",
              "    }\n",
              "\n",
              "    .dataframe thead th {\n",
              "        text-align: right;\n",
              "    }\n",
              "</style>\n",
              "<table border=\"1\" class=\"dataframe\">\n",
              "  <thead>\n",
              "    <tr style=\"text-align: right;\">\n",
              "      <th></th>\n",
              "      <th>title</th>\n",
              "      <th>description</th>\n",
              "      <th>source_domain</th>\n",
              "      <th>text</th>\n",
              "    </tr>\n",
              "  </thead>\n",
              "  <tbody>\n",
              "    <tr>\n",
              "      <th>198645</th>\n",
              "      <td>الجيش الروسي يسلم مساعدات إنسانية للنازحين عن ...</td>\n",
              "      <td>أعلن ممثل المركز الروسي للمصالحة في سوريا إدوا...</td>\n",
              "      <td>arabic.rt.com</td>\n",
              "      <td>أعلن ممثل المركز الروسي للمصالحة في سوريا إدوا...</td>\n",
              "    </tr>\n",
              "    <tr>\n",
              "      <th>233233</th>\n",
              "      <td>بانون :إقالة كومي أكبر خطأ ولن تغيّر شيئا في ت...</td>\n",
              "      <td>اعتبر مستشار الرئيس الأمريكي دونالد ترامب السا...</td>\n",
              "      <td>arabic.rt.com</td>\n",
              "      <td>اعتبر مستشار الرئيس الأمريكي دونالد ترامب السا...</td>\n",
              "    </tr>\n",
              "    <tr>\n",
              "      <th>590323</th>\n",
              "      <td>عيون غزة ترقب بهاء في أولمبياد لندن</td>\n",
              "      <td>تقرير من قطاع غزة عن مشاركة العداء الفلسطيني ب...</td>\n",
              "      <td>bbc.com</td>\n",
              "      <td>جهازك لا يدعم تشغيل الفيديو\\nولد بهاء بسام الف...</td>\n",
              "    </tr>\n",
              "    <tr>\n",
              "      <th>155127</th>\n",
              "      <td>شاهد: من فرنسا إلى كوسوفو.. سباق خيري للعشرات ...</td>\n",
              "      <td>شاهد: من فرنسا إلى كوسوفو.. سباق خيري للعشرات ...</td>\n",
              "      <td>arabic.euronews.com</td>\n",
              "      <td>سباق سانتا كلاوس أكان في فرنسا أم في كوسوفو لا...</td>\n",
              "    </tr>\n",
              "    <tr>\n",
              "      <th>26199</th>\n",
              "      <td>تزوجا بعد سبعين عاما من الفراق</td>\n",
              "      <td>عقد عشيقان بريطانيان قرانهما، بعد سبعين عاماً ...</td>\n",
              "      <td>aljazeera.net</td>\n",
              "      <td>عقد عشيقان بريطانيان قرانهما، بعد سبعين عاماً ...</td>\n",
              "    </tr>\n",
              "    <tr>\n",
              "      <th>...</th>\n",
              "      <td>...</td>\n",
              "      <td>...</td>\n",
              "      <td>...</td>\n",
              "      <td>...</td>\n",
              "    </tr>\n",
              "    <tr>\n",
              "      <th>298180</th>\n",
              "      <td>تورينو يضع يوفنتوس على بعد نقطة من حصد لقب \"ال...</td>\n",
              "      <td>أصبح يوفنتوس على بعد نقطة من إحراز لقب \"الكالت...</td>\n",
              "      <td>arabic.rt.com</td>\n",
              "      <td>أصبح يوفنتوس على بعد نقطة من إحراز لقب \"الكالت...</td>\n",
              "    </tr>\n",
              "    <tr>\n",
              "      <th>414159</th>\n",
              "      <td>موسكو: المحاولات الأمريكية لعزل روسيا فاشلة</td>\n",
              "      <td>أعلنت نائب مدير إدارة الإعلام في وزارة الخارجي...</td>\n",
              "      <td>arabic.rt.com</td>\n",
              "      <td>أعلنت نائب مدير إدارة الإعلام في وزارة الخارجي...</td>\n",
              "    </tr>\n",
              "    <tr>\n",
              "      <th>208350</th>\n",
              "      <td>القوات الروسية والهندية تتبادلان الخبرات في مك...</td>\n",
              "      <td>تستمر في جبال الهملايا تدريبات نظرية وتطبيقية ...</td>\n",
              "      <td>arabic.rt.com</td>\n",
              "      <td>تستمر في جبال الهملايا تدريبات نظرية وتطبيقية ...</td>\n",
              "    </tr>\n",
              "    <tr>\n",
              "      <th>442277</th>\n",
              "      <td>بتكوين تهبط لأدنى مستوى لها خلال 4 أشهر</td>\n",
              "      <td>هبطت عملة بتكوين الرقمية لأدنى مستوى لها في 4 ...</td>\n",
              "      <td>arabic.rt.com</td>\n",
              "      <td>هبطت عملة بتكوين الرقمية لأدنى مستوى لها في 4 ...</td>\n",
              "    </tr>\n",
              "    <tr>\n",
              "      <th>511023</th>\n",
              "      <td>إعصار يضرب مدينة اوكلاند النيوزيلاندية</td>\n",
              "      <td>لقي شخصان حتفهما وجرح آخرون في إعصار ضرب مدينة...</td>\n",
              "      <td>bbc.com</td>\n",
              "      <td>مصدر الصورة Getty Image caption قال شهود عيان ...</td>\n",
              "    </tr>\n",
              "  </tbody>\n",
              "</table>\n",
              "<p>600313 rows × 4 columns</p>\n",
              "</div>"
            ],
            "text/plain": [
              "                                                    title  ...                                               text\n",
              "198645  الجيش الروسي يسلم مساعدات إنسانية للنازحين عن ...  ...  أعلن ممثل المركز الروسي للمصالحة في سوريا إدوا...\n",
              "233233  بانون :إقالة كومي أكبر خطأ ولن تغيّر شيئا في ت...  ...  اعتبر مستشار الرئيس الأمريكي دونالد ترامب السا...\n",
              "590323                عيون غزة ترقب بهاء في أولمبياد لندن  ...  جهازك لا يدعم تشغيل الفيديو\\nولد بهاء بسام الف...\n",
              "155127  شاهد: من فرنسا إلى كوسوفو.. سباق خيري للعشرات ...  ...  سباق سانتا كلاوس أكان في فرنسا أم في كوسوفو لا...\n",
              "26199                      تزوجا بعد سبعين عاما من الفراق  ...  عقد عشيقان بريطانيان قرانهما، بعد سبعين عاماً ...\n",
              "...                                                   ...  ...                                                ...\n",
              "298180  تورينو يضع يوفنتوس على بعد نقطة من حصد لقب \"ال...  ...  أصبح يوفنتوس على بعد نقطة من إحراز لقب \"الكالت...\n",
              "414159        موسكو: المحاولات الأمريكية لعزل روسيا فاشلة  ...  أعلنت نائب مدير إدارة الإعلام في وزارة الخارجي...\n",
              "208350  القوات الروسية والهندية تتبادلان الخبرات في مك...  ...  تستمر في جبال الهملايا تدريبات نظرية وتطبيقية ...\n",
              "442277            بتكوين تهبط لأدنى مستوى لها خلال 4 أشهر  ...  هبطت عملة بتكوين الرقمية لأدنى مستوى لها في 4 ...\n",
              "511023             إعصار يضرب مدينة اوكلاند النيوزيلاندية  ...  مصدر الصورة Getty Image caption قال شهود عيان ...\n",
              "\n",
              "[600313 rows x 4 columns]"
            ]
          },
          "metadata": {
            "tags": []
          },
          "execution_count": 7
        }
      ]
    },
    {
      "cell_type": "code",
      "metadata": {
        "colab": {
          "base_uri": "https://localhost:8080/"
        },
        "id": "T_fG4QsKNYN3",
        "outputId": "39c4481f-776d-449c-d32a-4d51f2aec598"
      },
      "source": [
        "real_data.drop_duplicates(subset=['description'],inplace=True)  #dropping duplicates\n",
        "real_data.dropna(axis=0,inplace=True)   #dropping na\n",
        "real_data.info()"
      ],
      "execution_count": null,
      "outputs": [
        {
          "output_type": "stream",
          "text": [
            "<class 'pandas.core.frame.DataFrame'>\n",
            "Int64Index: 381260 entries, 198645 to 511023\n",
            "Data columns (total 4 columns):\n",
            " #   Column         Non-Null Count   Dtype \n",
            "---  ------         --------------   ----- \n",
            " 0   title          381260 non-null  object\n",
            " 1   description    381260 non-null  object\n",
            " 2   source_domain  381260 non-null  object\n",
            " 3   text           381260 non-null  object\n",
            "dtypes: object(4)\n",
            "memory usage: 14.5+ MB\n"
          ],
          "name": "stdout"
        }
      ]
    },
    {
      "cell_type": "code",
      "metadata": {
        "id": "AbtHZ0fJxHTO"
      },
      "source": [
        "real_data.to_csv('/content/drive/MyDrive/Arabic_FakeNews/Model/courpa/real_news.csv')"
      ],
      "execution_count": null,
      "outputs": []
    },
    {
      "cell_type": "code",
      "metadata": {
        "id": "IMqz2o6gxaBR",
        "colab": {
          "base_uri": "https://localhost:8080/",
          "height": 402
        },
        "outputId": "7210237f-719f-493f-c2a3-71260ffbe3b7"
      },
      "source": [
        "real_data"
      ],
      "execution_count": null,
      "outputs": [
        {
          "output_type": "execute_result",
          "data": {
            "text/html": [
              "<div>\n",
              "<style scoped>\n",
              "    .dataframe tbody tr th:only-of-type {\n",
              "        vertical-align: middle;\n",
              "    }\n",
              "\n",
              "    .dataframe tbody tr th {\n",
              "        vertical-align: top;\n",
              "    }\n",
              "\n",
              "    .dataframe thead th {\n",
              "        text-align: right;\n",
              "    }\n",
              "</style>\n",
              "<table border=\"1\" class=\"dataframe\">\n",
              "  <thead>\n",
              "    <tr style=\"text-align: right;\">\n",
              "      <th></th>\n",
              "      <th>title</th>\n",
              "      <th>description</th>\n",
              "      <th>source_domain</th>\n",
              "      <th>text</th>\n",
              "    </tr>\n",
              "  </thead>\n",
              "  <tbody>\n",
              "    <tr>\n",
              "      <th>198645</th>\n",
              "      <td>الجيش الروسي يسلم مساعدات إنسانية للنازحين عن ...</td>\n",
              "      <td>أعلن ممثل المركز الروسي للمصالحة في سوريا إدوا...</td>\n",
              "      <td>arabic.rt.com</td>\n",
              "      <td>أعلن ممثل المركز الروسي للمصالحة في سوريا إدوا...</td>\n",
              "    </tr>\n",
              "    <tr>\n",
              "      <th>233233</th>\n",
              "      <td>بانون :إقالة كومي أكبر خطأ ولن تغيّر شيئا في ت...</td>\n",
              "      <td>اعتبر مستشار الرئيس الأمريكي دونالد ترامب السا...</td>\n",
              "      <td>arabic.rt.com</td>\n",
              "      <td>اعتبر مستشار الرئيس الأمريكي دونالد ترامب السا...</td>\n",
              "    </tr>\n",
              "    <tr>\n",
              "      <th>590323</th>\n",
              "      <td>عيون غزة ترقب بهاء في أولمبياد لندن</td>\n",
              "      <td>تقرير من قطاع غزة عن مشاركة العداء الفلسطيني ب...</td>\n",
              "      <td>bbc.com</td>\n",
              "      <td>جهازك لا يدعم تشغيل الفيديو\\nولد بهاء بسام الف...</td>\n",
              "    </tr>\n",
              "    <tr>\n",
              "      <th>155127</th>\n",
              "      <td>شاهد: من فرنسا إلى كوسوفو.. سباق خيري للعشرات ...</td>\n",
              "      <td>شاهد: من فرنسا إلى كوسوفو.. سباق خيري للعشرات ...</td>\n",
              "      <td>arabic.euronews.com</td>\n",
              "      <td>سباق سانتا كلاوس أكان في فرنسا أم في كوسوفو لا...</td>\n",
              "    </tr>\n",
              "    <tr>\n",
              "      <th>26199</th>\n",
              "      <td>تزوجا بعد سبعين عاما من الفراق</td>\n",
              "      <td>عقد عشيقان بريطانيان قرانهما، بعد سبعين عاماً ...</td>\n",
              "      <td>aljazeera.net</td>\n",
              "      <td>عقد عشيقان بريطانيان قرانهما، بعد سبعين عاماً ...</td>\n",
              "    </tr>\n",
              "    <tr>\n",
              "      <th>...</th>\n",
              "      <td>...</td>\n",
              "      <td>...</td>\n",
              "      <td>...</td>\n",
              "      <td>...</td>\n",
              "    </tr>\n",
              "    <tr>\n",
              "      <th>462951</th>\n",
              "      <td>المحكمة الدستورية الروسية تؤكد سيادة الدستور و...</td>\n",
              "      <td>اتخذت المحكمة الدستورية الروسية الثلاثاء قرارا...</td>\n",
              "      <td>arabic.rt.com</td>\n",
              "      <td>اتخذت المحكمة الدستورية الروسية الثلاثاء قرارا...</td>\n",
              "    </tr>\n",
              "    <tr>\n",
              "      <th>229342</th>\n",
              "      <td>ميسي للأرجنتينيين: أعدكم بتحقيق كأس العالم هذا...</td>\n",
              "      <td>ذكرت صحيفة \"موندو ديبورتيفو\" الكاتالونية، أن ن...</td>\n",
              "      <td>arabic.rt.com</td>\n",
              "      <td>ذكرت صحيفة \"موندو ديبورتيفو\" الكاتالونية، أن ن...</td>\n",
              "    </tr>\n",
              "    <tr>\n",
              "      <th>414159</th>\n",
              "      <td>موسكو: المحاولات الأمريكية لعزل روسيا فاشلة</td>\n",
              "      <td>أعلنت نائب مدير إدارة الإعلام في وزارة الخارجي...</td>\n",
              "      <td>arabic.rt.com</td>\n",
              "      <td>أعلنت نائب مدير إدارة الإعلام في وزارة الخارجي...</td>\n",
              "    </tr>\n",
              "    <tr>\n",
              "      <th>208350</th>\n",
              "      <td>القوات الروسية والهندية تتبادلان الخبرات في مك...</td>\n",
              "      <td>تستمر في جبال الهملايا تدريبات نظرية وتطبيقية ...</td>\n",
              "      <td>arabic.rt.com</td>\n",
              "      <td>تستمر في جبال الهملايا تدريبات نظرية وتطبيقية ...</td>\n",
              "    </tr>\n",
              "    <tr>\n",
              "      <th>511023</th>\n",
              "      <td>إعصار يضرب مدينة اوكلاند النيوزيلاندية</td>\n",
              "      <td>لقي شخصان حتفهما وجرح آخرون في إعصار ضرب مدينة...</td>\n",
              "      <td>bbc.com</td>\n",
              "      <td>مصدر الصورة Getty Image caption قال شهود عيان ...</td>\n",
              "    </tr>\n",
              "  </tbody>\n",
              "</table>\n",
              "<p>381260 rows × 4 columns</p>\n",
              "</div>"
            ],
            "text/plain": [
              "                                                    title  ...                                               text\n",
              "198645  الجيش الروسي يسلم مساعدات إنسانية للنازحين عن ...  ...  أعلن ممثل المركز الروسي للمصالحة في سوريا إدوا...\n",
              "233233  بانون :إقالة كومي أكبر خطأ ولن تغيّر شيئا في ت...  ...  اعتبر مستشار الرئيس الأمريكي دونالد ترامب السا...\n",
              "590323                عيون غزة ترقب بهاء في أولمبياد لندن  ...  جهازك لا يدعم تشغيل الفيديو\\nولد بهاء بسام الف...\n",
              "155127  شاهد: من فرنسا إلى كوسوفو.. سباق خيري للعشرات ...  ...  سباق سانتا كلاوس أكان في فرنسا أم في كوسوفو لا...\n",
              "26199                      تزوجا بعد سبعين عاما من الفراق  ...  عقد عشيقان بريطانيان قرانهما، بعد سبعين عاماً ...\n",
              "...                                                   ...  ...                                                ...\n",
              "462951  المحكمة الدستورية الروسية تؤكد سيادة الدستور و...  ...  اتخذت المحكمة الدستورية الروسية الثلاثاء قرارا...\n",
              "229342  ميسي للأرجنتينيين: أعدكم بتحقيق كأس العالم هذا...  ...  ذكرت صحيفة \"موندو ديبورتيفو\" الكاتالونية، أن ن...\n",
              "414159        موسكو: المحاولات الأمريكية لعزل روسيا فاشلة  ...  أعلنت نائب مدير إدارة الإعلام في وزارة الخارجي...\n",
              "208350  القوات الروسية والهندية تتبادلان الخبرات في مك...  ...  تستمر في جبال الهملايا تدريبات نظرية وتطبيقية ...\n",
              "511023             إعصار يضرب مدينة اوكلاند النيوزيلاندية  ...  مصدر الصورة Getty Image caption قال شهود عيان ...\n",
              "\n",
              "[381260 rows x 4 columns]"
            ]
          },
          "metadata": {
            "tags": []
          },
          "execution_count": 10
        }
      ]
    }
  ]
}